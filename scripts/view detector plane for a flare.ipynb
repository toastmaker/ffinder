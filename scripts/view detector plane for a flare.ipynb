{
 "cells": [
  {
   "cell_type": "code",
   "execution_count": 1,
   "id": "7261df03",
   "metadata": {},
   "outputs": [],
   "source": [
    "import astropy.io.fits as fits\n",
    "import numpy as np\n",
    "import matplotlib.pyplot as plt\n",
    "from lcutils import get_pif_from_file"
   ]
  },
  {
   "cell_type": "code",
   "execution_count": 18,
   "id": "866dbdff",
   "metadata": {},
   "outputs": [],
   "source": [
    " # SGR15\n",
    "# source, scw, flare_start_ijd, duration = \"SGR15\", '003700020010', 1127.252128, 0.1 # example of good\n",
    "#source, scw, flare_start_ijd, duration = \"SGR15\", '003000260010', 1107.0467817, 0.1 # example of bad\n",
    "# source, scw, flare_start_ijd, duration = \"SGR\", '0122000850010', 1383.20561475, 1.4 # example of good\n",
    "source, scw, flare_start_ijd, duration = \"SGR\", '012100570010', 1379.66877153, 0.24 # example of good\n",
    "rev = scw[0:4]\n",
    "! mkdir -p /Users/toast/Dropbox/inaf/test0\n",
    "! [[ ! -f /Users/toast/Dropbox/inaf/test0/{source}_{scw}_isgri_model.fits.gz ]] && (knock_ssh -H werewolf.lambrate.inaf.it -n; scp werewolf.lambrate.inaf.it:/storage/topinka/{source}/masks/{rev}/{scw}_isgri_model.fits.gz /Users/toast/Dropbox/inaf/test0/{source}_{scw}_isgri_model.fits.gz)\n",
    "! [[ ! -f /Users/toast/Dropbox/inaf/test0/{scw}_isgri_events.fits.gz ]] && (knock_ssh -H werewolf.lambrate.inaf.it -n; scp werewolf.lambrate.inaf.it:/anita/archivio/scw/{rev}/{scw}.001/isgri_events.fits.gz /Users/toast/Dropbox/inaf/test0/{scw}_isgri_events.fits.gz)\n",
    "! [[ ! -f /Users/toast/Dropbox/inaf/test0/{source}_{scw}_evts_h.fits.gz ]] && (knock_ssh -H werewolf.lambrate.inaf.it -n; scp werewolf.lambrate.inaf.it:/storage/topinka/{source}/out/{rev}/{scw}_evts_h.fits.gz /Users/toast/Dropbox/inaf/test0/{source}_{scw}_evts_h.fits.gz)"
   ]
  },
  {
   "cell_type": "code",
   "execution_count": 19,
   "id": "89825df6",
   "metadata": {},
   "outputs": [
    {
     "name": "stdout",
     "output_type": "stream",
     "text": [
      "/Users/toast/Dropbox/inaf/test0/012100570010_isgri_events.fits.gz\r\n",
      "/Users/toast/Dropbox/inaf/test0/SGR_012100570010_evts_h.fits.gz\r\n",
      "/Users/toast/Dropbox/inaf/test0/SGR_012100570010_isgri_model.fits.gz\r\n"
     ]
    }
   ],
   "source": [
    "# scw = \"012200850010\"\n",
    "fn_raw = f'/Users/toast/Dropbox/inaf/test0/{scw}_isgri_events.fits.gz'\n",
    "fn = f'/Users/toast/Dropbox/inaf/test0/{source}_{scw}_evts_h.fits.gz'\n",
    "# let's for test take a different pif if things changed with a completely different pif\n",
    "# scw = \"012200460010\"\n",
    "fn_pif = f'/Users/toast/Dropbox/inaf/test0/{source}_{scw}_isgri_model.fits.gz'\n",
    "!ls {fn_raw} {fn} {fn_pif}"
   ]
  },
  {
   "cell_type": "code",
   "execution_count": 20,
   "id": "309faec0",
   "metadata": {},
   "outputs": [],
   "source": [
    "pif_th = 0.5 # nearly fully-coded\n",
    "low_e = 20\n",
    "high_e = 150\n",
    "\n",
    "#flare_start_ijd = 1107.0467817\n",
    "#duration = 0.02\n",
    "flare_end_ijd =  flare_start_ijd + duration/(24*60*60)\n",
    "boundary = 0.01/(24*60*60)"
   ]
  },
  {
   "cell_type": "code",
   "execution_count": 21,
   "id": "e1ddf063",
   "metadata": {},
   "outputs": [],
   "source": [
    "with fits.open(fn_raw) as hdul:\n",
    "    time = hdul['ISGR-EVTS-ALL'].data['TIME']\n",
    "    energy = hdul['ISGR-EVTS-ALL'].data['ISGRI_ENERGY']\n",
    "    dety = hdul['ISGR-EVTS-ALL'].data['DETY'].astype(int)\n",
    "    detz = hdul['ISGR-EVTS-ALL'].data['DETZ'].astype(int)\n",
    "    select_flag = hdul['ISGR-EVTS-ALL'].data['SELECT_FLAG'] == 0"
   ]
  },
  {
   "cell_type": "code",
   "execution_count": 22,
   "id": "d9044cb4",
   "metadata": {},
   "outputs": [],
   "source": [
    "pifmask = get_pif_from_file(fn_pif)"
   ]
  },
  {
   "cell_type": "code",
   "execution_count": 23,
   "id": "5b9bbbb1",
   "metadata": {},
   "outputs": [
    {
     "data": {
      "image/png": "[encoded data removed]",
      "text/plain": [
       "<Figure size 432x288 with 1 Axes>"
      ]
     },
     "metadata": {
      "needs_background": "light"
     },
     "output_type": "display_data"
    }
   ],
   "source": [
    "pif = pifmask[detz, dety]\n",
    "plt.imshow(pifmask.T,\n",
    "           interpolation=None,\n",
    "           vmin=0, vmax=1,\n",
    "           origin='lower',\n",
    "           extent=[0, 130, 0, 133],\n",
    "           cmap=plt.cm.jet)\n",
    "plt.title(\"Pif mask\");\n",
    "#pifmask.shape"
   ]
  },
  {
   "cell_type": "code",
   "execution_count": 24,
   "id": "1b76715e",
   "metadata": {},
   "outputs": [],
   "source": [
    "with fits.open(fn) as hdul:\n",
    "    time = hdul['GNRL-EVTS-LST'].data['TIME']\n",
    "    energy = hdul['GNRL-EVTS-LST'].data['ENERGY']\n",
    "    dety = (hdul['GNRL-EVTS-LST'].data['DETY']/4.6).astype(int)\n",
    "    detz = (hdul['GNRL-EVTS-LST'].data['DETZ']/4.6).astype(int)\n",
    "    pif = hdul['GNRL-EVTS-LST'].data['PIF_1']\n",
    "    select_flag = hdul['GNRL-EVTS-LST'].data['EVNT_TYPE'] == 0"
   ]
  },
  {
   "cell_type": "code",
   "execution_count": 25,
   "id": "36446c26",
   "metadata": {
    "scrolled": true
   },
   "outputs": [
    {
     "data": {
      "text/plain": [
       "(0, 133, 0, 129)"
      ]
     },
     "execution_count": 25,
     "metadata": {},
     "output_type": "execute_result"
    }
   ],
   "source": [
    "np.min(detz), np.max(detz), np.min(dety), np.max(dety)"
   ]
  },
  {
   "cell_type": "code",
   "execution_count": 26,
   "id": "23153512",
   "metadata": {},
   "outputs": [
    {
     "data": {
      "image/png": "[encoded data removed]",
      "text/plain": [
       "<Figure size 432x288 with 1 Axes>"
      ]
     },
     "metadata": {
      "needs_background": "light"
     },
     "output_type": "display_data"
    }
   ],
   "source": [
    "plt.hist(pif,bins=20)\n",
    "plt.title(\"Distribution of pifs\")\n",
    "plt.xlabel(\"pif\");"
   ]
  },
  {
   "cell_type": "code",
   "execution_count": 27,
   "id": "877e6f55",
   "metadata": {},
   "outputs": [
    {
     "data": {
      "text/plain": [
       "44"
      ]
     },
     "execution_count": 27,
     "metadata": {},
     "output_type": "execute_result"
    }
   ],
   "source": [
    "filtr = (time >= flare_start_ijd - boundary) & \\\n",
    "        (time <= flare_end_ijd + boundary) & \\\n",
    "        (energy >= low_e) & \\\n",
    "        (energy <= high_e) & \\\n",
    "        (select_flag) & \\\n",
    "        (pif >= pif_th)\n",
    "\n",
    "dety_target = dety[filtr]\n",
    "detz_target = detz[filtr]\n",
    "n_photons = np.count_nonzero(filtr)\n",
    "n_photons"
   ]
  },
  {
   "cell_type": "code",
   "execution_count": 28,
   "id": "cf821c17",
   "metadata": {},
   "outputs": [],
   "source": [
    "H, xedges, yedges = np.histogram2d(detz_target, dety_target,\n",
    "                                   bins=pifmask.shape,\n",
    "                                   range=[[0,133],[0,129]])"
   ]
  },
  {
   "cell_type": "code",
   "execution_count": 29,
   "id": "a9dd3773",
   "metadata": {},
   "outputs": [
    {
     "data": {
      "image/png": "[encoded data removed]",
      "text/plain": [
       "<Figure size 864x432 with 4 Axes>"
      ]
     },
     "metadata": {
      "needs_background": "light"
     },
     "output_type": "display_data"
    }
   ],
   "source": [
    "plt.figure(figsize=(12,6))\n",
    "plt.subplot(121)\n",
    "# masking < pif_th to look white\n",
    "data_masked = np.ma.masked_where(H.T < 0.001, H.T)\n",
    "im = plt.imshow(data_masked, \n",
    "           interpolation = 'none', \n",
    "           origin='lower', \n",
    "           vmin = 0, \n",
    "           cmap=plt.cm.jet,\n",
    "           extent=[0, 130, 0, 133])\n",
    "plt.colorbar(im, orientation=\"horizontal\", pad=0.15)\n",
    "plt.xlabel(\"det y\")\n",
    "plt.ylabel(\"det z\")\n",
    "plt.title(\"Scw {0} @ {1} on det\".format(scw, flare_start_ijd));\n",
    "\n",
    "plt.subplot(122)\n",
    "pifmask_masked = np.ma.masked_where(pifmask < pif_th, pifmask)\n",
    "im = plt.imshow(pifmask_masked.T,\n",
    "           interpolation=None,\n",
    "           vmin=0, vmax=1,\n",
    "           origin='lower',\n",
    "           extent=[0, 130, 0, 133],\n",
    "           cmap=plt.cm.jet)\n",
    "plt.colorbar(im, orientation=\"horizontal\", pad=0.15)\n",
    "plt.xlabel(\"det y\")\n",
    "plt.ylabel(\"det z\")\n",
    "plt.title(\"pif mask (> {0})\".format(pif_th));"
   ]
  },
  {
   "cell_type": "code",
   "execution_count": 30,
   "id": "1c7386b7",
   "metadata": {},
   "outputs": [
    {
     "data": {
      "text/plain": [
       "((134, 130), 1301)"
      ]
     },
     "execution_count": 30,
     "metadata": {},
     "output_type": "execute_result"
    }
   ],
   "source": [
    "i = pifmask >= pif_th\n",
    "i.shape, np.count_nonzero(i)"
   ]
  },
  {
   "cell_type": "code",
   "execution_count": 31,
   "id": "7a28fa79",
   "metadata": {},
   "outputs": [],
   "source": [
    "p = H[i].ravel()\n",
    "nz = np.count_nonzero(p)\n",
    "c = p[p > 0].ravel()"
   ]
  },
  {
   "cell_type": "code",
   "execution_count": 32,
   "id": "2a96ec5e",
   "metadata": {},
   "outputs": [
    {
     "name": "stdout",
     "output_type": "stream",
     "text": [
      "44 photons on 44 of 1301 illuminated pixels\n",
      "Expected 1 photon(s) on a pixel. Max per pixel 1, var 0\n"
     ]
    },
    {
     "data": {
      "image/png": "[encoded data removed]",
      "text/plain": [
       "<Figure size 432x288 with 1 Axes>"
      ]
     },
     "metadata": {
      "needs_background": "light"
     },
     "output_type": "display_data"
    }
   ],
   "source": [
    "plt.plot(p,\"*\")\n",
    "plt.xlabel('Flattened illuminated pixels')\n",
    "plt.ylabel('Counts')\n",
    "npx_pif = np.count_nonzero(i)\n",
    "expected = n_photons//npx_pif + 1\n",
    "var = np.sum( (c - expected)**2)/len(c)\n",
    "print(\"{0:g} photons on {1:g} of {2:g} illuminated pixels\".format(n_photons, nz, npx_pif))\n",
    "print(\"Expected {0:g} photon(s) on a pixel. Max per pixel {1:g}, var {2:g}\".format(expected, np.max(c), var))"
   ]
  },
  {
   "cell_type": "code",
   "execution_count": 33,
   "id": "9d6ee154",
   "metadata": {},
   "outputs": [
    {
     "data": {
      "text/plain": [
       "False"
      ]
     },
     "execution_count": 33,
     "metadata": {},
     "output_type": "execute_result"
    }
   ],
   "source": [
    "var > expected + 3*np.sqrt(expected)"
   ]
  },
  {
   "cell_type": "code",
   "execution_count": 34,
   "id": "8eaab47a",
   "metadata": {},
   "outputs": [
    {
     "data": {
      "text/plain": [
       "44.0"
      ]
     },
     "execution_count": 34,
     "metadata": {},
     "output_type": "execute_result"
    }
   ],
   "source": [
    "np.sum(H.ravel())"
   ]
  },
  {
   "cell_type": "code",
   "execution_count": null,
   "id": "e2e05fe7",
   "metadata": {},
   "outputs": [],
   "source": []
  }
 ],
 "metadata": {
  "kernelspec": {
   "display_name": "Python 3",
   "language": "python",
   "name": "python3"
  },
  "language_info": {
   "codemirror_mode": {
    "name": "ipython",
    "version": 3
   },
   "file_extension": ".py",
   "mimetype": "text/x-python",
   "name": "python",
   "nbconvert_exporter": "python",
   "pygments_lexer": "ipython3",
   "version": "3.8.5"
  }
 },
 "nbformat": 4,
 "nbformat_minor": 5
}
