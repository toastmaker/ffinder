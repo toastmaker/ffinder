{
 "cells": [
  {
   "cell_type": "code",
   "execution_count": 268,
   "id": "5e881de4",
   "metadata": {},
   "outputs": [],
   "source": [
    "import numpy as np\n",
    "import pandas as pd\n",
    "import matplotlib.pyplot as plt\n",
    "# log N>S - log S plot"
   ]
  },
  {
   "cell_type": "code",
   "execution_count": 269,
   "id": "3d28388d",
   "metadata": {},
   "outputs": [
    {
     "data": {
      "text/plain": [
       "167"
      ]
     },
     "execution_count": 269,
     "metadata": {},
     "output_type": "execute_result"
    }
   ],
   "source": [
    "flares = pd.read_csv(\"../test/0227_flares_5s.csv\", delimiter=\"\\s+\")\n",
    "flares_s = flares[ (flares['snr_G'] > 8.) & (flares['mu'] > 0.0) ]\n",
    "# flares.replace([np.inf, -np.inf], np.nan, inplace=True).dropna(subset=[\"col1\", \"col2\"], how=\"all\")\n",
    "len(flares_s)"
   ]
  },
  {
   "cell_type": "code",
   "execution_count": 270,
   "id": "86c0f7c3",
   "metadata": {},
   "outputs": [
    {
     "data": {
      "image/png": "[encoded data removed]",
      "text/plain": [
       "<Figure size 432x288 with 1 Axes>"
      ]
     },
     "metadata": {
      "needs_background": "light"
     },
     "output_type": "display_data"
    }
   ],
   "source": [
    "data = flares_s['snr_G'].values\n",
    "plt.hist(data, bins=20,rwidth=0.9);"
   ]
  },
  {
   "cell_type": "code",
   "execution_count": 285,
   "id": "3baff73c",
   "metadata": {},
   "outputs": [],
   "source": [
    "files = !ls ../test/flares/*_flares_5s.csv"
   ]
  },
  {
   "cell_type": "code",
   "execution_count": 222,
   "id": "c831e994",
   "metadata": {},
   "outputs": [
    {
     "data": {
      "text/plain": [
       "167"
      ]
     },
     "execution_count": 222,
     "metadata": {},
     "output_type": "execute_result"
    }
   ],
   "source": [
    "tl = np.sum(c)\n",
    "tl"
   ]
  },
  {
   "cell_type": "code",
   "execution_count": 223,
   "id": "cd40898c",
   "metadata": {},
   "outputs": [
    {
     "data": {
      "image/png": "[encoded data removed]",
      "text/plain": [
       "<Figure size 432x288 with 1 Axes>"
      ]
     },
     "metadata": {
      "needs_background": "light"
     },
     "output_type": "display_data"
    }
   ],
   "source": [
    "plt.hist(data, bins=bins,rwidth=0.9)\n",
    "e = (edges[1:]+edges[:-1])/2.\n",
    "plt.xticks(e[::2],[ \"{0:3.1f}\".format(x) for x in e[::2]]);\n",
    "ys = 10**np.linspace(np.log10(np.min(n_gt_s)-0.1),np.log10(np.max(n_gt_s)+0.1),5)\n",
    "plt.yticks(ys,[ \"{0:2.0f}\".format(x) for x in ys]);\n",
    "plt.yscale('log')\n",
    "plt.xscale('log')"
   ]
  },
  {
   "cell_type": "code",
   "execution_count": 585,
   "id": "0d85f4f2",
   "metadata": {},
   "outputs": [
    {
     "name": "stdout",
     "output_type": "stream",
     "text": [
      "../test/flares/0046_flares_5s.csv : 33\n",
      "../test/flares/0050_flares_5s.csv : 11\n",
      "../test/flares/0051_flares_5s.csv : 0\n",
      "../test/flares/0052_flares_5s.csv : 0\n",
      "../test/flares/0053_flares_5s.csv : 120\n",
      "../test/flares/0054_flares_5s.csv : 2\n",
      "../test/flares/0055_flares_5s.csv : 0\n",
      "../test/flares/0056_flares_5s.csv : 654\n",
      "../test/flares/0057_flares_5s.csv : 5\n",
      "../test/flares/0058_flares_5s.csv : 33\n",
      "../test/flares/0059_flares_5s.csv : 16\n",
      "../test/flares/0060_flares_5s.csv : 3\n",
      "../test/flares/0061_flares_5s.csv : 173\n",
      "../test/flares/0062_flares_5s.csv : 10\n",
      "../test/flares/0063_flares_5s.csv : 156\n",
      "../test/flares/0064_flares_5s.csv : 361\n",
      "../test/flares/0065_flares_5s.csv : 143\n",
      "../test/flares/0066_flares_5s.csv : 35\n",
      "../test/flares/0067_flares_5s.csv : 0\n",
      "../test/flares/0103_flares_5s.csv : 150\n",
      "../test/flares/0104_flares_5s.csv : 0\n",
      "../test/flares/0105_flares_5s.csv : 366\n",
      "../test/flares/0106_flares_5s.csv : 72\n",
      "../test/flares/0107_flares_5s.csv : 59\n",
      "../test/flares/0108_flares_5s.csv : 92\n",
      "../test/flares/0109_flares_5s.csv : 165\n",
      "../test/flares/0110_flares_5s.csv : 53\n",
      "../test/flares/0111_flares_5s.csv : 89\n",
      "../test/flares/0112_flares_5s.csv : 207\n",
      "../test/flares/0113_flares_5s.csv : 524\n",
      "../test/flares/0114_flares_5s.csv : 361\n",
      "../test/flares/0115_flares_5s.csv : 65\n",
      "../test/flares/0116_flares_5s.csv : 2\n",
      "../test/flares/0117_flares_5s.csv : 38\n",
      "../test/flares/0119_flares_5s.csv : 44\n",
      "../test/flares/0120_flares_5s.csv : 73\n",
      "../test/flares/0121_flares_5s.csv : 46\n",
      "../test/flares/0122_flares_5s.csv : 86\n",
      "../test/flares/0123_flares_5s.csv : 8\n",
      "../test/flares/0124_flares_5s.csv : 0\n",
      "../test/flares/0125_flares_5s.csv : 0\n",
      "../test/flares/0164_flares_5s.csv : 52\n",
      "../test/flares/0165_flares_5s.csv : 27\n",
      "../test/flares/0167_flares_5s.csv : 29\n",
      "../test/flares/0168_flares_5s.csv : 177\n",
      "../test/flares/0169_flares_5s.csv : 384\n",
      "../test/flares/0171_flares_5s.csv : 464\n",
      "../test/flares/0172_flares_5s.csv : 952\n",
      "../test/flares/0173_flares_5s.csv : 175\n",
      "../test/flares/0174_flares_5s.csv : 50\n",
      "../test/flares/0175_flares_5s.csv : 13\n",
      "../test/flares/0178_flares_5s.csv : 68\n",
      "../test/flares/0179_flares_5s.csv : 21\n",
      "../test/flares/0181_flares_5s.csv : 56\n",
      "../test/flares/0183_flares_5s.csv : 35\n",
      "../test/flares/0185_flares_5s.csv : 14\n",
      "../test/flares/0186_flares_5s.csv : 7\n",
      "../test/flares/0189_flares_5s.csv : 0\n",
      "../test/flares/0225_flares_5s.csv : 217\n",
      "../test/flares/0226_flares_5s.csv : 62\n",
      "../test/flares/0227_flares_5s.csv : 253\n",
      "../test/flares/0228_flares_5s.csv : 9\n",
      "../test/flares/0229_flares_5s.csv : 92\n",
      "../test/flares/0230_flares_5s.csv : 164\n",
      "../test/flares/0231_flares_5s.csv : 42\n",
      "../test/flares/0232_flares_5s.csv : 33\n",
      "../test/flares/0233_flares_5s.csv : 31\n",
      "../test/flares/0234_flares_5s.csv : 10\n",
      "../test/flares/0235_flares_5s.csv : 38\n",
      "../test/flares/0236_flares_5s.csv : 72\n",
      "../test/flares/0237_flares_5s.csv : 123\n",
      "../test/flares/0240_flares_5s.csv : 120\n",
      "../test/flares/0241_flares_5s.csv : 279\n",
      "../test/flares/0242_flares_5s.csv : 41\n",
      "../test/flares/0243_flares_5s.csv : 44\n",
      "../test/flares/0244_flares_5s.csv : 62\n",
      "../test/flares/0245_flares_5s.csv : 89\n",
      "../test/flares/0246_flares_5s.csv : 78\n",
      "../test/flares/0249_flares_5s.csv : 25\n",
      "../test/flares/0253_flares_5s.csv : 0\n",
      "../test/flares/0286_flares_5s.csv : 83\n",
      "../test/flares/0287_flares_5s.csv : 5\n",
      "../test/flares/0288_flares_5s.csv : 3\n",
      "../test/flares/0289_flares_5s.csv : 2\n",
      "../test/flares/0290_flares_5s.csv : 0\n",
      "../test/flares/0291_flares_5s.csv : 11\n",
      "../test/flares/0292_flares_5s.csv : 2\n",
      "../test/flares/0293_flares_5s.csv : 1\n",
      "Total:  8770\n"
     ]
    }
   ],
   "source": [
    "files = !ls ../test/flares/????_flares_5s.csv\n",
    "data = np.array([])\n",
    "counter = 0\n",
    "for f in files:\n",
    "    flares = pd.read_csv(f, delimiter=\"\\s+\")\n",
    "    flares_s = flares[ (flares['snr_G'] > 5.) & (flares['mu'] > 0.0)]\n",
    "    counter += len(flares_s)\n",
    "    print(f, \":\", len(flares_s))\n",
    "    data = np.concatenate( [data, flares_s['snr_G'].values] )\n",
    "print(\"Total: \", counter)\n",
    "# flares.replace([np.inf, -np.inf], np.nan, inplace=True).dropna(subset=[\"col1\", \"col2\"], how=\"all\")"
   ]
  },
  {
   "cell_type": "code",
   "execution_count": 596,
   "id": "091d289f",
   "metadata": {},
   "outputs": [],
   "source": [
    "def lognlogs(data, plot=True, return_log=False, fit=False):\n",
    "    n=len(data)\n",
    "    nbins = min(n//4, 30)\n",
    "    bins = 10**np.linspace(np.log10(np.min(data)-0.01),np.log10(np.max(data)+0.01),nbins)\n",
    "    c, edges = np.histogram(data, bins=bins)\n",
    "    cum = np.cumsum(c[::-1])\n",
    "    n_gt_s = np.concatenate([ cum, np.array([0]) ])\n",
    "    s = edges[1:]\n",
    "    n_gt_s = cum[::-1]\n",
    "\n",
    "    if fit:\n",
    "        x1 = np.log10(s[:])\n",
    "        y1 = np.log10(n_gt_s[:])\n",
    "        z = np.polyfit(x1,y1,1)\n",
    "\n",
    "    if plot:\n",
    "        fig, [ax1, ax2] = plt.subplots(2, 1, sharex=True, figsize=(8,8))\n",
    "        fig.subplots_adjust(hspace=0.05)\n",
    "        h = ax1.hist(data, bins=bins,rwidth=0.9)\n",
    "        e = (edges[1:]+edges[:-1])/2.\n",
    "        ys = 10**np.linspace(np.log10(np.min(n_gt_s)-0.1),np.log10(np.max(n_gt_s)+0.1),5)\n",
    "        ax1.set_yticks(ys)\n",
    "        ax1.set_yticklabels([ \"{0:2.0f}\".format(x) for x in ys])    \n",
    "        ax1.set_yscale('log')\n",
    "        ax1.set_xscale('log')\n",
    "        if fit:\n",
    "            ax2.plot(s, 10**z[1]*s**z[0], \":r\", label=\"slope = {0:3.2f}\".format(z[0]))\n",
    "        ax2.loglog(s,n_gt_s, \".:\")\n",
    "        ys = 10**np.linspace(np.log10(np.min(n_gt_s)-0.1),np.log10(np.max(n_gt_s)+0.1),5)\n",
    "        ax2.set_yticks(ys);    \n",
    "        ax2.set_yticklabels([ \"{0:2.0f}\".format(x) for x in ys])\n",
    "        ax1.set_title(\"log (N>S) - log(S)\")\n",
    "        ax1.set_xticks(e[::3])\n",
    "        ax1.set_xticklabels([ \"{0:3.0f}\".format(x) for x in e[::3]])\n",
    "        ax2.set_xlabel(\"Significance\")\n",
    "        ax2.set_ylabel(\"N > S\")\n",
    "        ax1.set_ylabel(\"N\")\n",
    "        if fit:\n",
    "            plt.legend();\n",
    "    if return_log:\n",
    "        s = np.log10(s)\n",
    "        n_gt_s = np.log10(n_gt_s)\n",
    "    if fit:\n",
    "        return s, n_gt_s, z\n",
    "    else:\n",
    "        return s, n_gt_s"
   ]
  },
  {
   "cell_type": "code",
   "execution_count": 597,
   "id": "6a613e72",
   "metadata": {},
   "outputs": [
    {
     "data": {
      "image/png": "[encoded data removed]",
      "text/plain": [
       "<Figure size 576x576 with 2 Axes>"
      ]
     },
     "metadata": {
      "needs_background": "light"
     },
     "output_type": "display_data"
    }
   ],
   "source": [
    "s, n_gt_s, z = lognlogs(data, fit=True)"
   ]
  },
  {
   "cell_type": "code",
   "execution_count": null,
   "id": "1f1e2ac1",
   "metadata": {},
   "outputs": [],
   "source": [
    "\n",
    "ys = 10**np.linspace(np.log10(np.min(n_gt_s)-0.1),np.log10(np.max(n_gt_s)+0.1),5)\n",
    "plt.yticks(ys,[ \"{0:2.0f}\".format(x) for x in ys]);\n",
    "plt.xticks(e[::2],[ \"{0:2.0f}\".format(x) for x in e[::2]]);\n",
    "plt.plot(s,n_gt_s, \"*-\")\n",
    "plt.yscale('log')\n",
    "plt.xscale('log')"
   ]
  },
  {
   "cell_type": "code",
   "execution_count": 207,
   "id": "3b641220",
   "metadata": {},
   "outputs": [
    {
     "name": "stdout",
     "output_type": "stream",
     "text": [
      "-1.6392382392642435\n"
     ]
    },
    {
     "data": {
      "text/plain": [
       "[<matplotlib.lines.Line2D at 0x7fbf1550f970>]"
      ]
     },
     "execution_count": 207,
     "metadata": {},
     "output_type": "execute_result"
    },
    {
     "data": {
      "image/png": "[encoded data removed]",
      "text/plain": [
       "<Figure size 432x288 with 1 Axes>"
      ]
     },
     "metadata": {
      "needs_background": "light"
     },
     "output_type": "display_data"
    }
   ],
   "source": [
    "#plt.plot(np.log10(edges),np.log10(n_gt_s), \"*-\")\n",
    "plt.plot(np.log10(s),np.log10(n_gt_s), \"*-\")\n",
    "\n",
    "x1 = np.log10(s[:-3])\n",
    "y1 = np.log10(n_gt_s[:-3])\n",
    "z = np.polyfit(x1,y1,1)\n",
    "print(z[0])\n",
    "plt.plot(np.log10(s), z[0]*np.log10(s) + z[1], \":r\")"
   ]
  },
  {
   "cell_type": "code",
   "execution_count": 158,
   "id": "f6b6aed5",
   "metadata": {},
   "outputs": [],
   "source": [
    "from astropy.table import Table\n",
    "import astropy.io.fits as fits"
   ]
  },
  {
   "cell_type": "code",
   "execution_count": 19,
   "id": "b12d348b",
   "metadata": {},
   "outputs": [
    {
     "name": "stdout",
     "output_type": "stream",
     "text": [
      "Filename: /Users/toast/Dropbox/inaf/repos/SGR1806/012200850010/obs/iipif/012200850010_evts_h.fits\n",
      "No.    Name      Ver    Type      Cards   Dimensions   Format\n",
      "  0  PRIMARY       1 PrimaryHDU      18   ()      \n",
      "  1  GROUPING      1 BinTableHDU     45   2R x 6C   [8A, 32A, 1J, 1J, 256A, 3A]   \n",
      "  2  GNRL-EVTS-LST    1 BinTableHDU     67   997892R x 9C   [1E, 1E, 1E, 1J, 1D, 1D, 1D, 1D, 1D]   \n",
      "  3  GNRL-EVTS-GTI    1 BinTableHDU     53   2R x 6C   [1D, 1D, 4I, 4I, 32A, 32A]   \n"
     ]
    }
   ],
   "source": [
    "fn = \"/Users/toast/Dropbox/inaf/repos/SGR1806/012200850010/obs/iipif/012200850010_evts_h.fits\"\n",
    "hdul = fits.open(fn)\n",
    "hdul.info()"
   ]
  },
  {
   "cell_type": "code",
   "execution_count": 25,
   "id": "1fe95e0f",
   "metadata": {},
   "outputs": [],
   "source": [
    "t = Table.read(fn, hdu=2)"
   ]
  },
  {
   "cell_type": "code",
   "execution_count": 26,
   "id": "4df2e5d2",
   "metadata": {},
   "outputs": [
    {
     "data": {
      "text/html": [
       "<i>Table length=997892</i>\n",
       "<table id=\"table140457203678272\" class=\"table-striped table-bordered table-condensed\">\n",
       "<thead><tr><th>DETY</th><th>DETZ</th><th>ENERGY</th><th>EVNT_TYPE</th><th>TIME</th><th>DEADC</th><th>PIF_1</th></tr></thead>\n",
       "<thead><tr><th>mm</th><th>mm</th><th>keV</th><th></th><th>d</th><th></th><th></th></tr></thead>\n",
       "<thead><tr><th>float32</th><th>float32</th><th>float32</th><th>int32</th><th>float64</th><th>float64</th><th>float64</th></tr></thead>\n",
       "<tr><td>411.7</td><td>190.9</td><td>975.2079</td><td>0</td><td>1383.3136132690388</td><td>0.22380773723125458</td><td>0.7321588397026062</td></tr>\n",
       "<tr><td>384.1</td><td>480.7</td><td>14.591111</td><td>0</td><td>1383.313613276103</td><td>0.21418313682079315</td><td>8.649810752103804e-07</td></tr>\n",
       "<tr><td>370.3</td><td>29.9</td><td>123.97921</td><td>0</td><td>1383.313613282461</td><td>0.22586895525455475</td><td>8.649810752103804e-07</td></tr>\n",
       "<tr><td>572.7</td><td>443.9</td><td>17.984001</td><td>0</td><td>1383.3136133064793</td><td>0.221378356218338</td><td>8.649810752103804e-07</td></tr>\n",
       "<tr><td>29.9</td><td>94.3</td><td>45.18736</td><td>0</td><td>1383.3136133078922</td><td>0.2245924174785614</td><td>6.908079512868426e-07</td></tr>\n",
       "<tr><td>374.9</td><td>485.3</td><td>219.90181</td><td>0</td><td>1383.3136133248463</td><td>0.21418313682079315</td><td>0.8047606348991394</td></tr>\n",
       "<tr><td>112.7</td><td>549.7</td><td>37.917957</td><td>0</td><td>1383.3136133481585</td><td>0.2159787267446518</td><td>7.690378538427467e-07</td></tr>\n",
       "<tr><td>6.9</td><td>264.5</td><td>53.6155</td><td>0</td><td>1383.3136133516907</td><td>0.22108295559883118</td><td>0.33931809663772583</td></tr>\n",
       "<tr><td>333.5</td><td>356.5</td><td>32.825542</td><td>0</td><td>1383.3136133601677</td><td>0.221378356218338</td><td>8.649810752103804e-07</td></tr>\n",
       "<tr><td>...</td><td>...</td><td>...</td><td>...</td><td>...</td><td>...</td><td>...</td></tr>\n",
       "<tr><td>351.9</td><td>269.1</td><td>7.3378754</td><td>0</td><td>1383.331956077444</td><td>0.2215953916311264</td><td>8.258498951363435e-07</td></tr>\n",
       "<tr><td>16.1</td><td>347.3</td><td>93.12544</td><td>0</td><td>1383.3319560943983</td><td>0.22114437818527222</td><td>8.649810752103804e-07</td></tr>\n",
       "<tr><td>397.9</td><td>301.3</td><td>450.43576</td><td>0</td><td>1383.3319561184167</td><td>0.2215953916311264</td><td>8.649810752103804e-07</td></tr>\n",
       "<tr><td>259.9</td><td>126.5</td><td>106.55619</td><td>0</td><td>1383.3319561664537</td><td>0.22326181828975677</td><td>1.0</td></tr>\n",
       "<tr><td>535.9</td><td>568.1</td><td>949.0214</td><td>0</td><td>1383.331956191885</td><td>0.2267172932624817</td><td>8.649810752103804e-07</td></tr>\n",
       "<tr><td>126.5</td><td>89.7</td><td>107.49218</td><td>0</td><td>1383.3319562095455</td><td>0.22326181828975677</td><td>8.649810752103804e-07</td></tr>\n",
       "<tr><td>181.7</td><td>264.5</td><td>587.1414</td><td>0</td><td>1383.3319562208483</td><td>0.22612527012825012</td><td>1.0</td></tr>\n",
       "<tr><td>471.5</td><td>591.1</td><td>5.557596</td><td>0</td><td>1383.3319562427475</td><td>0.2267172932624817</td><td>8.649810752103804e-07</td></tr>\n",
       "<tr><td>568.1</td><td>563.5</td><td>8.431238</td><td>0</td><td>1383.3319562455733</td><td>0.2267172932624817</td><td>0.34400057792663574</td></tr>\n",
       "<tr><td>568.1</td><td>563.5</td><td>5.909779</td><td>0</td><td>1383.331956248399</td><td>0.2267172932624817</td><td>0.34400057792663574</td></tr>\n",
       "</table>"
      ],
      "text/plain": [
       "<Table length=997892>\n",
       "  DETY    DETZ    ENERGY  ...        DEADC                PIF_1        \n",
       "   mm      mm      keV    ...                                          \n",
       "float32 float32  float32  ...       float64              float64       \n",
       "------- ------- --------- ... ------------------- ---------------------\n",
       "  411.7   190.9  975.2079 ... 0.22380773723125458    0.7321588397026062\n",
       "  384.1   480.7 14.591111 ... 0.21418313682079315 8.649810752103804e-07\n",
       "  370.3    29.9 123.97921 ... 0.22586895525455475 8.649810752103804e-07\n",
       "  572.7   443.9 17.984001 ...   0.221378356218338 8.649810752103804e-07\n",
       "   29.9    94.3  45.18736 ...  0.2245924174785614 6.908079512868426e-07\n",
       "  374.9   485.3 219.90181 ... 0.21418313682079315    0.8047606348991394\n",
       "  112.7   549.7 37.917957 ...  0.2159787267446518 7.690378538427467e-07\n",
       "    6.9   264.5   53.6155 ... 0.22108295559883118   0.33931809663772583\n",
       "  333.5   356.5 32.825542 ...   0.221378356218338 8.649810752103804e-07\n",
       "    ...     ...       ... ...                 ...                   ...\n",
       "  351.9   269.1 7.3378754 ...  0.2215953916311264 8.258498951363435e-07\n",
       "   16.1   347.3  93.12544 ... 0.22114437818527222 8.649810752103804e-07\n",
       "  397.9   301.3 450.43576 ...  0.2215953916311264 8.649810752103804e-07\n",
       "  259.9   126.5 106.55619 ... 0.22326181828975677                   1.0\n",
       "  535.9   568.1  949.0214 ...  0.2267172932624817 8.649810752103804e-07\n",
       "  126.5    89.7 107.49218 ... 0.22326181828975677 8.649810752103804e-07\n",
       "  181.7   264.5  587.1414 ... 0.22612527012825012                   1.0\n",
       "  471.5   591.1  5.557596 ...  0.2267172932624817 8.649810752103804e-07\n",
       "  568.1   563.5  8.431238 ...  0.2267172932624817   0.34400057792663574\n",
       "  568.1   563.5  5.909779 ...  0.2267172932624817   0.34400057792663574"
      ]
     },
     "execution_count": 26,
     "metadata": {},
     "output_type": "execute_result"
    }
   ],
   "source": [
    "t.remove_columns(['BARYTIME_1', 'TIMEDEL'])\n",
    "t"
   ]
  },
  {
   "cell_type": "code",
   "execution_count": 28,
   "id": "af281187",
   "metadata": {},
   "outputs": [
    {
     "data": {
      "text/plain": [
       "FITS_rec([(411.7, 190.9, 975.2079  , 0, 1383.31361327, 7.0642542e-10, 0., 0.22380774, 7.32158840e-01),\n",
       "          (384.1, 480.7,  14.591111, 0, 1383.31361328, 7.0642542e-10, 0., 0.21418314, 8.64981075e-07),\n",
       "          (370.3,  29.9, 123.97921 , 0, 1383.31361328, 7.0642542e-10, 0., 0.22586896, 8.64981075e-07),\n",
       "          ...,\n",
       "          (471.5, 591.1,   5.557596, 0, 1383.33195624, 7.0642542e-10, 0., 0.22671729, 8.64981075e-07),\n",
       "          (568.1, 563.5,   8.431238, 0, 1383.33195625, 7.0642542e-10, 0., 0.22671729, 3.44000578e-01),\n",
       "          (568.1, 563.5,   5.909779, 0, 1383.33195625, 7.0642542e-10, 0., 0.22671729, 3.44000578e-01)],\n",
       "         dtype=(numpy.record, [('DETY', '>f4'), ('DETZ', '>f4'), ('ENERGY', '>f4'), ('EVNT_TYPE', '>i4'), ('TIME', '>f8'), ('TIMEDEL', '>f8'), ('BARYTIME_1', '>f8'), ('DEADC', '>f8'), ('PIF_1', '>f8')]))"
      ]
     },
     "execution_count": 28,
     "metadata": {},
     "output_type": "execute_result"
    }
   ],
   "source": [
    "hdul[2].data"
   ]
  },
  {
   "cell_type": "code",
   "execution_count": null,
   "id": "a8957989",
   "metadata": {},
   "outputs": [],
   "source": []
  }
 ],
 "metadata": {
  "kernelspec": {
   "display_name": "Python 3",
   "language": "python",
   "name": "python3"
  },
  "language_info": {
   "codemirror_mode": {
    "name": "ipython",
    "version": 3
   },
   "file_extension": ".py",
   "mimetype": "text/x-python",
   "name": "python",
   "nbconvert_exporter": "python",
   "pygments_lexer": "ipython3",
   "version": "3.8.5"
  }
 },
 "nbformat": 4,
 "nbformat_minor": 5
}
